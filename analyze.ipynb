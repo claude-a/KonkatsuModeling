{
 "cells": [
  {
   "cell_type": "markdown",
   "metadata": {},
   "source": [
    "## Initialize"
   ]
  },
  {
   "cell_type": "code",
   "execution_count": null,
   "metadata": {},
   "outputs": [],
   "source": [
    "import random\n",
    "import matplotlib.pyplot as plt\n",
    "from konkatsu_worker import KonkatsuWorker\n",
    "\n",
    "# random.seed(1)\n",
    "worker = KonkatsuWorker()"
   ]
  },
  {
   "cell_type": "markdown",
   "metadata": {},
   "source": [
    "## Run"
   ]
  },
  {
   "cell_type": "code",
   "execution_count": null,
   "metadata": {},
   "outputs": [],
   "source": [
    "candidates_max = 100\n",
    "contraction_rates = [0.1, 0.2, 0.3, 0.4, 0.5, 0.6, 0.7, 0.8, 0.9]\n",
    "each_loop_max = 10\n",
    "\n",
    "loop_num_list = []\n",
    "total_married_pairs_number_list = []\n",
    "for rate in contraction_rates:\n",
    "    loop_num = 0\n",
    "    total_married_pairs_number = 0\n",
    "    for i in range(each_loop_max):\n",
    "        loop_num_each, total_married_pairs_number_each = worker.run_one_konkatsu_cycle(candidates_max, rate)\n",
    "        loop_num += loop_num_each\n",
    "        total_married_pairs_number += total_married_pairs_number_each\n",
    "\n",
    "    loop_num /= each_loop_max\n",
    "    total_married_pairs_number /= each_loop_max\n",
    "\n",
    "    loop_num_list.append(loop_num)\n",
    "    total_married_pairs_number_list.append(total_married_pairs_number)\n",
    "\n",
    "konkatsu_productivity = [a / b for a, b in zip(total_married_pairs_number_list, loop_num_list)]\n",
    "\n",
    "fig, axs = plt.subplots(3, 1, figsize=(10, 8))\n",
    "\n",
    "axs[0].scatter(contraction_rates, loop_num_list)\n",
    "axs[0].set_xlabel('Contraction Rates')\n",
    "axs[0].set_ylabel('Loop Number')\n",
    "\n",
    "axs[1].scatter(contraction_rates, total_married_pairs_number_list)\n",
    "axs[1].set_xlabel('Contraction Rates')\n",
    "axs[1].set_ylabel('Total Married Pairs Number')\n",
    "\n",
    "axs[2].scatter(contraction_rates, konkatsu_productivity)\n",
    "axs[2].set_xlabel('Contraction Rates')\n",
    "axs[2].set_ylabel('Konkatsu Productivity')\n",
    "\n",
    "plt.tight_layout()\n",
    "plt.show()"
   ]
  }
 ],
 "metadata": {
  "kernelspec": {
   "display_name": "Python 3",
   "language": "python",
   "name": "python3"
  },
  "language_info": {
   "codemirror_mode": {
    "name": "ipython",
    "version": 3
   },
   "file_extension": ".py",
   "mimetype": "text/x-python",
   "name": "python",
   "nbconvert_exporter": "python",
   "pygments_lexer": "ipython3",
   "version": "3.11.3"
  }
 },
 "nbformat": 4,
 "nbformat_minor": 2
}
